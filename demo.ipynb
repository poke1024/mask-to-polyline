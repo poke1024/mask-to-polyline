{
 "cells": [
  {
   "cell_type": "code",
   "execution_count": null,
   "metadata": {},
   "outputs": [],
   "source": [
    "import numpy\n",
    "import cv2\n",
    "import PIL.Image\n",
    "import skgeom as sg\n",
    "\n",
    "def _normalized(v):\n",
    "    return v / numpy.linalg.norm(v)\n",
    "\n",
    "def generate_random_polyline_mask(n=15, size=512, thickness=2):\n",
    "    pixels = numpy.zeros((size, size), dtype=numpy.uint8)\n",
    "\n",
    "    while True:\n",
    "        poly = sg.random_polygon(\n",
    "            n, size=size // 4, shape=\"disc\")\n",
    "\n",
    "        line = [(\n",
    "            int(float(p.x() + size // 2)),\n",
    "            int(float(p.y() + size // 2)))\n",
    "            for p in list(poly.vertices)]\n",
    "\n",
    "        pts = numpy.array(line, dtype=numpy.int32)\n",
    "        dots = [\n",
    "            numpy.dot(_normalized(v - u), _normalized(z - v))\n",
    "            for u, v, z in zip(pts, pts[1:], pts[2:])]\n",
    "\n",
    "        if min(dots) > 0:\n",
    "            break\n",
    "\n",
    "    for u, v in zip(line, line[1:]):\n",
    "        cv2.line(pixels, u, v, color=255, thickness=thickness)\n",
    "        \n",
    "    return pixels\n",
    "\n",
    "pixels = generate_random_polyline_mask()\n",
    "PIL.Image.fromarray(pixels, \"L\")"
   ]
  },
  {
   "cell_type": "code",
   "execution_count": null,
   "metadata": {},
   "outputs": [],
   "source": [
    "import mask_to_polyline\n",
    "polylines = mask_to_polyline.find_polylines(pixels)\n",
    "\n",
    "def draw_polyline(pixels, polylines):\n",
    "    import shapely.geometry\n",
    "    pixels2 = (255 - (pixels.copy() // 2))\n",
    "    pixels2 = numpy.array(PIL.Image.fromarray(pixels2, \"L\").convert(\"RGB\"))\n",
    "    for polyline in polylines:\n",
    "\n",
    "        coords = polyline.coords\n",
    "        s = shapely.geometry.LineString(coords).simplify(2)\n",
    "        coords = list(s.coords)\n",
    "\n",
    "        for u, v in zip(coords, coords[1:]):\n",
    "            u = tuple(map(int, u))\n",
    "            v = tuple(map(int, v))\n",
    "            cv2.line(pixels2, u, v, color=(230, 0, 100), thickness=1)\n",
    "\n",
    "        for p in coords:\n",
    "            p = tuple(map(int, p))\n",
    "            cv2.circle(pixels2, p, 3, color=(100, 150, 200), thickness=-1)\n",
    "\n",
    "    return PIL.Image.fromarray(pixels2)\n",
    "    \n",
    "draw_polyline(pixels, polylines)"
   ]
  }
 ],
 "metadata": {
  "kernelspec": {
   "display_name": "Python 3",
   "language": "python",
   "name": "python3"
  },
  "language_info": {
   "codemirror_mode": {
    "name": "ipython",
    "version": 3
   },
   "file_extension": ".py",
   "mimetype": "text/x-python",
   "name": "python",
   "nbconvert_exporter": "python",
   "pygments_lexer": "ipython3",
   "version": "3.7.0"
  }
 },
 "nbformat": 4,
 "nbformat_minor": 4
}
